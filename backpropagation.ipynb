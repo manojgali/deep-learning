{
 "cells": [
  {
   "cell_type": "code",
   "execution_count": 1,
   "metadata": {
    "id": "BkdoH6d8wWqa"
   },
   "outputs": [],
   "source": [
    "import numpy as np\n",
    "from sklearn import datasets\n",
    "import pandas as pd\n",
    "from sklearn.model_selection import train_test_split\n",
    "import math"
   ]
  },
  {
   "cell_type": "code",
   "execution_count": 2,
   "metadata": {},
   "outputs": [],
   "source": [
    "X=[[0,0],[0,1],[1,0],[1,1]]\n",
    "Y=[0,1,1,0]"
   ]
  },
  {
   "cell_type": "code",
   "execution_count": 3,
   "metadata": {},
   "outputs": [],
   "source": [
    "\n",
    "def sigmoid(a):    \n",
    "    return 1.0/(1.0+math.exp(a))\n",
    "\n",
    "\n",
    "\n"
   ]
  },
  {
   "cell_type": "markdown",
   "metadata": {},
   "source": [
    "# Normal Gradient decent iterated over 100 epochs on XOR gate data. the weights are taken from Negnevitsky.\n",
    "hyper perameters: eta=0.1"
   ]
  },
  {
   "cell_type": "code",
   "execution_count": 5,
   "metadata": {},
   "outputs": [],
   "source": [
    "############## gradient decent############\n",
    "count=0\n",
    "loss=[]\n",
    "for i in range (200):\n",
    "    #print(i)\n",
    "    w13=0.5\n",
    "    w14=0.9\n",
    "    w23=0.4\n",
    "    w24=1.0\n",
    "    w35=-1.2\n",
    "    w45=1.1\n",
    "    theta3=0.8\n",
    "    theta4=-0.1\n",
    "    theta5=0.3\n",
    "    \n",
    "    delta_w35=0\n",
    "    delta_w45=0\n",
    "    delta_theta5=0\n",
    "    \n",
    "    \n",
    "    delta_w13=0\n",
    "    delta_w23=0\n",
    "    delta_theta3=0\n",
    "    \n",
    "    delta_w14=0\n",
    "    delta_w24=0\n",
    "    delta_theta4=0\n",
    "    for x,y in zip(X,Y):\n",
    "        y3=sigmoid(w13*x[0]+w23*x[1]-theta3)\n",
    "        y4=sigmoid(w14*x[0]+w24*x[1]-theta4)\n",
    "        \n",
    "        y5=sigmoid(y3*w35+y4*w45-theta5)\n",
    "        e=y-y5\n",
    "        loss.append(e)\n",
    "        count=count+1\n",
    "        delta5=y5*(1-y5)*e\n",
    "        delta3=y3*(1-y3)*delta5*w35\n",
    "        delta4=y4*(1-y4)*delta5*w45\n",
    "        \n",
    "        delta_w35=delta_w35+(y3*delta5)\n",
    "        delta_w45=delta_w45+(y4*delta5)\n",
    "        delta_theta5=delta_theta5+(-1*delta5)\n",
    "        \n",
    "        \n",
    "        delta_w13=delta_w13+(x[0]*delta3)\n",
    "        delta_w23=delta_w23+(x[1]*delta3)\n",
    "        delta_theta3=delta_theta3+(-1*delta3)\n",
    "        \n",
    "        delta_w14=delta_w14+(x[0]*delta4)\n",
    "        delta_w24=delta_w24+(x[1]*delta4)\n",
    "        delta_theta4=delta_theta4+(-1*delta4)\n",
    "    \n",
    "    w13=w13-0.1*delta_w13\n",
    "    w23=w23-0.1*delta_w23\n",
    "    w14=w14-0.1*delta_w14\n",
    "    w24=w24-0.1*delta_w24\n",
    "    w35=w35-0.1*delta_w35\n",
    "    w45=w45-0.1*delta_w45\n",
    "    \n",
    "    theta3=theta3-0.1*delta_theta3\n",
    "    theta4=theta4-0.1*delta_theta4\n",
    "    theta5=theta5-0.1*delta_theta5\n",
    "    \n",
    "        \n",
    "        \n",
    "        \n",
    "       \n",
    "       \n",
    "      \n",
    "    \n",
    "        \n",
    "        \n",
    "    \n"
   ]
  },
  {
   "cell_type": "markdown",
   "metadata": {},
   "source": [
    "# Final parameters"
   ]
  },
  {
   "cell_type": "code",
   "execution_count": 6,
   "metadata": {},
   "outputs": [
    {
     "name": "stdout",
     "output_type": "stream",
     "text": [
      "w13: 0.49774193093815045\n",
      "w23: 0.3975983535764918\n",
      "w14: 0.9001083538948956\n",
      "w24: 1.0002596089480735\n",
      "w35: -1.1912382536303128\n",
      "w45: 1.1050352123190434\n",
      "theta3: 0.8040224495783732\n",
      "theta3: -0.1027115448461093\n",
      "theta3: 0.28485997914072714\n"
     ]
    }
   ],
   "source": [
    "print(\"w13:\",w13)\n",
    "print(\"w23:\",w23)\n",
    "print(\"w14:\",w14)\n",
    "print(\"w24:\",w24)\n",
    "print(\"w35:\",w35)\n",
    "print(\"w45:\",w45)\n",
    "print(\"theta3:\",theta3)\n",
    "print(\"theta3:\",theta4)\n",
    "print(\"theta3:\",theta5)\n",
    "\n",
    "\n"
   ]
  },
  {
   "cell_type": "markdown",
   "metadata": {},
   "source": [
    "# monetum based gradient decent on the same data \n",
    "hyper parameters:\n",
    "momentum=0.9,\n",
    "eta=0.1"
   ]
  },
  {
   "cell_type": "code",
   "execution_count": 7,
   "metadata": {},
   "outputs": [],
   "source": [
    "############## gradient decent############\n",
    "count=0\n",
    "momentum_loss=[]\n",
    "for i in range (200):\n",
    "    #print(i)\n",
    "    w13=0.5\n",
    "    w14=0.9\n",
    "    w23=0.4\n",
    "    w24=1.0\n",
    "    w35=-1.2\n",
    "    w45=1.1\n",
    "    theta3=0.8\n",
    "    theta4=-0.1\n",
    "    theta5=0.3\n",
    "    \n",
    "    delta_w35=0\n",
    "    delta_w45=0\n",
    "    delta_theta5=0\n",
    "    \n",
    "    \n",
    "    delta_w13=0\n",
    "    delta_w23=0\n",
    "    delta_theta3=0\n",
    "    \n",
    "    delta_w14=0\n",
    "    delta_w24=0\n",
    "    delta_theta4=0\n",
    "    \n",
    "    prev_w13=0\n",
    "    prev_w14=0\n",
    "    prev_w23=0\n",
    "    prev_w24=0\n",
    "    prev_w35=0\n",
    "    prev_w45=0\n",
    "    \n",
    "    prev_theta3=0\n",
    "    prev_theta4=0\n",
    "    prev_theta5=0\n",
    "    \n",
    "    \n",
    "    for x,y in zip(X,Y):\n",
    "        y3=sigmoid(w13*x[0]+w23*x[1]-theta3)\n",
    "        y4=sigmoid(w14*x[0]+w24*x[1]-theta4)\n",
    "        \n",
    "        y5=sigmoid(y3*w35+y4*w45-theta5)\n",
    "        e=y-y5\n",
    "        momentum_loss.append(e)\n",
    "        count=count+1\n",
    "        delta5=y5*(1-y5)*e\n",
    "        delta3=y3*(1-y3)*delta5*w35\n",
    "        delta4=y4*(1-y4)*delta5*w45\n",
    "        \n",
    "        delta_w35=delta_w35+(y3*delta5)\n",
    "        delta_w45=delta_w45+(y4*delta5)\n",
    "        delta_theta5=delta_theta5+(-1*delta5)\n",
    "        \n",
    "        \n",
    "        delta_w13=delta_w13+(x[0]*delta3)\n",
    "        delta_w23=delta_w23+(x[1]*delta3)\n",
    "        delta_theta3=delta_theta3+(-1*delta3)\n",
    "        \n",
    "        delta_w14=delta_w14+(x[0]*delta4)\n",
    "        delta_w24=delta_w24+(x[1]*delta4)\n",
    "        delta_theta4=delta_theta4+(-1*delta4)\n",
    "    \n",
    "    \n",
    "    vel_w13=0.9*prev_w13+0.1*delta_w13\n",
    "    vel_w23=0.9*prev_w23+0.1*delta_w23\n",
    "    vel_w14=0.9*prev_w14+0.1*delta_w14\n",
    "    vel_w24=0.9*prev_w24+0.1*delta_w24\n",
    "    vel_w35=0.9*prev_w35+0.1*delta_w35\n",
    "    vel_w45=0.9*prev_w45+0.1*delta_w45\n",
    "    \n",
    "    vel_theta3=0.9*prev_theta3+0.1*delta_theta3\n",
    "    vel_theta4=0.9*prev_theta4+0.1*delta_theta4\n",
    "    vel_theta5=0.9*prev_theta5+0.1*delta_theta5\n",
    "    \n",
    "    w13=w13-vel_w13\n",
    "    w23=w23-vel_w23\n",
    "    w14=w14-vel_w14\n",
    "    w24=w24-vel_w24\n",
    "    w35=w35-vel_w35\n",
    "    w45=w45-vel_w45\n",
    "    \n",
    "    theta3=theta3-vel_theta3\n",
    "    theta4=theta4-vel_theta4\n",
    "    theta5=theta5-vel_theta5\n",
    "    \n",
    "    \n",
    "    \n",
    "    prev_w13=vel_w13\n",
    "    prev_w14=vel_w14\n",
    "    prev_w23=vel_w23\n",
    "    prev_w24=vel_w24\n",
    "    prev_w35=vel_w35\n",
    "    prev_w45=vel_w45\n",
    "    \n",
    "    prev_theta3=vel_theta3\n",
    "    prev_theta4=vel_theta4\n",
    "    prev_theta5=vel_theta5\n",
    "        \n",
    "        \n",
    "       \n",
    "       \n",
    "        \n",
    "    \n",
    "        \n",
    "        \n",
    "    \n"
   ]
  },
  {
   "cell_type": "markdown",
   "metadata": {},
   "source": [
    "# Final Perameters"
   ]
  },
  {
   "cell_type": "code",
   "execution_count": 8,
   "metadata": {},
   "outputs": [
    {
     "name": "stdout",
     "output_type": "stream",
     "text": [
      "w13: 0.49774193093815045\n",
      "w23: 0.3975983535764918\n",
      "w14: 0.9001083538948956\n",
      "w24: 1.0002596089480735\n",
      "w35: -1.1912382536303128\n",
      "w45: 1.1050352123190434\n",
      "theta3: 0.8040224495783732\n",
      "theta3: -0.1027115448461093\n",
      "theta3: 0.28485997914072714\n"
     ]
    }
   ],
   "source": [
    "print(\"w13:\",w13)\n",
    "print(\"w23:\",w23)\n",
    "print(\"w14:\",w14)\n",
    "print(\"w24:\",w24)\n",
    "print(\"w35:\",w35)\n",
    "print(\"w45:\",w45)\n",
    "print(\"theta3:\",theta3)\n",
    "print(\"theta3:\",theta4)\n",
    "print(\"theta3:\",theta5)"
   ]
  },
  {
   "cell_type": "code",
   "execution_count": null,
   "metadata": {},
   "outputs": [],
   "source": []
  },
  {
   "cell_type": "markdown",
   "metadata": {},
   "source": [
    "# Nesterov Accelerated Gradient decent\n",
    "hyper perameters: eta=0.1,momentum=0.9"
   ]
  },
  {
   "cell_type": "code",
   "execution_count": 9,
   "metadata": {},
   "outputs": [],
   "source": [
    "############## gradient decent############\n",
    "count=0\n",
    "Nesterov_loss=[]\n",
    "for i in range (200):\n",
    "    #print(i)\n",
    "    w13=0.5\n",
    "    w14=0.9\n",
    "    w23=0.4\n",
    "    w24=1.0\n",
    "    w35=-1.2\n",
    "    w45=1.1\n",
    "    theta3=0.8\n",
    "    theta4=-0.1\n",
    "    theta5=0.3\n",
    "    \n",
    "    delta_w35=0\n",
    "    delta_w45=0\n",
    "    delta_theta5=0\n",
    "    \n",
    "    \n",
    "    delta_w13=0\n",
    "    delta_w23=0\n",
    "    delta_theta3=0\n",
    "    \n",
    "    delta_w14=0\n",
    "    delta_w24=0\n",
    "    delta_theta4=0\n",
    "    \n",
    "    prev_w13=0\n",
    "    prev_w14=0\n",
    "    prev_w23=0\n",
    "    prev_w24=0\n",
    "    prev_w35=0\n",
    "    prev_w45=0\n",
    "    \n",
    "    prev_theta3=0\n",
    "    prev_theta4=0\n",
    "    prev_theta5=0\n",
    "    \n",
    "    ###partial updates#####\n",
    "    vel_w13=0.9*prev_w13\n",
    "    vel_w23=0.9*prev_w23\n",
    "    vel_w14=0.9*prev_w14\n",
    "    vel_w24=0.9*prev_w24\n",
    "    vel_w35=0.9*prev_w35\n",
    "    vel_w45=0.9*prev_w45\n",
    "    \n",
    "    vel_theta3=0.9*prev_theta3\n",
    "    vel_theta4=0.9*prev_theta4\n",
    "    vel_theta5=0.9*prev_theta5\n",
    "    \n",
    "    \n",
    "    for x,y in zip(X,Y):\n",
    "        y3=sigmoid((w13-vel_w13)*x[0]+(w23-vel_w23)*x[1]-theta3)\n",
    "        y4=sigmoid((w14-vel_w14)*x[0]+(w24-vel_w24)*x[1]-theta4)\n",
    "        \n",
    "        y5=sigmoid(y3*(w35-vel_w35)+y4*(w45-vel_w45)-theta5)\n",
    "        e=y-y5\n",
    "        Nesterov_loss.append(e)\n",
    "        count=count+1\n",
    "        delta5=y5*(1-y5)*e\n",
    "        delta3=y3*(1-y3)*delta5*w35\n",
    "        delta4=y4*(1-y4)*delta5*w45\n",
    "        \n",
    "        delta_w35=delta_w35+(y3*delta5)\n",
    "        delta_w45=delta_w45+(y4*delta5)\n",
    "        delta_theta5=delta_theta5+(-1*delta5)\n",
    "        \n",
    "        \n",
    "        delta_w13=delta_w13+(x[0]*delta3)\n",
    "        delta_w23=delta_w23+(x[1]*delta3)\n",
    "        delta_theta3=delta_theta3+(-1*delta3)\n",
    "        \n",
    "        delta_w14=delta_w14+(x[0]*delta4)\n",
    "        delta_w24=delta_w24+(x[1]*delta4)\n",
    "        delta_theta4=delta_theta4+(-1*delta4)\n",
    "    \n",
    "    \n",
    "    vel_w13=0.9*prev_w13+0.1*delta_w13\n",
    "    vel_w23=0.9*prev_w23+0.1*delta_w23\n",
    "    vel_w14=0.9*prev_w14+0.1*delta_w14\n",
    "    vel_w24=0.9*prev_w24+0.1*delta_w24\n",
    "    vel_w35=0.9*prev_w35+0.1*delta_w35\n",
    "    vel_w45=0.9*prev_w45+0.1*delta_w45\n",
    "    \n",
    "    vel_theta3=0.9*prev_theta3+0.1*delta_theta3\n",
    "    vel_theta4=0.9*prev_theta4+0.1*delta_theta4\n",
    "    vel_theta5=0.9*prev_theta5+0.1*delta_theta5\n",
    "    \n",
    "    w13=w13-vel_w13\n",
    "    w23=w23-vel_w23\n",
    "    w14=w14-vel_w14\n",
    "    w24=w24-vel_w24\n",
    "    w35=w35-vel_w35\n",
    "    w45=w45-vel_w45\n",
    "    \n",
    "    theta3=theta3-vel_theta3\n",
    "    theta4=theta4-vel_theta4\n",
    "    theta5=theta5-vel_theta5\n",
    "    \n",
    "    \n",
    "    \n",
    "    prev_w13=vel_w13\n",
    "    prev_w14=vel_w14\n",
    "    prev_w23=vel_w23\n",
    "    prev_w24=vel_w24\n",
    "    prev_w35=vel_w35\n",
    "    prev_w45=vel_w45\n",
    "    \n",
    "    prev_theta3=vel_theta3\n",
    "    prev_theta4=vel_theta4\n",
    "    prev_theta5=vel_theta5\n",
    "        \n",
    "        \n",
    "       \n",
    "       \n",
    "        \n",
    "    \n",
    "        \n",
    "        \n",
    "    \n"
   ]
  },
  {
   "cell_type": "markdown",
   "metadata": {},
   "source": [
    "# Final Perameter"
   ]
  },
  {
   "cell_type": "code",
   "execution_count": 10,
   "metadata": {},
   "outputs": [
    {
     "name": "stdout",
     "output_type": "stream",
     "text": [
      "w13: 0.49774193093815045\n",
      "w23: 0.3975983535764918\n",
      "w14: 0.9001083538948956\n",
      "w24: 1.0002596089480735\n",
      "w35: -1.1912382536303128\n",
      "w45: 1.1050352123190434\n",
      "theta3: 0.8040224495783732\n",
      "theta3: -0.1027115448461093\n",
      "theta3: 0.28485997914072714\n"
     ]
    }
   ],
   "source": [
    "print(\"w13:\",w13)\n",
    "print(\"w23:\",w23)\n",
    "print(\"w14:\",w14)\n",
    "print(\"w24:\",w24)\n",
    "print(\"w35:\",w35)\n",
    "print(\"w45:\",w45)\n",
    "print(\"theta3:\",theta3)\n",
    "print(\"theta3:\",theta4)\n",
    "print(\"theta3:\",theta5)"
   ]
  },
  {
   "cell_type": "code",
   "execution_count": null,
   "metadata": {},
   "outputs": [],
   "source": [
    "vel_w13"
   ]
  },
  {
   "cell_type": "code",
   "execution_count": 11,
   "metadata": {},
   "outputs": [
    {
     "data": {
      "text/plain": [
       "-0.6469013850176625"
      ]
     },
     "execution_count": 11,
     "metadata": {},
     "output_type": "execute_result"
    }
   ],
   "source": [
    "loss[400]"
   ]
  },
  {
   "cell_type": "code",
   "execution_count": 12,
   "metadata": {},
   "outputs": [
    {
     "data": {
      "text/plain": [
       "-0.6469013850176625"
      ]
     },
     "execution_count": 12,
     "metadata": {},
     "output_type": "execute_result"
    }
   ],
   "source": [
    "momentum_loss[400]"
   ]
  },
  {
   "cell_type": "markdown",
   "metadata": {},
   "source": [
    "# Overfitting and underfitting"
   ]
  },
  {
   "cell_type": "code",
   "execution_count": null,
   "metadata": {},
   "outputs": [],
   "source": [
    "import pandas as pd\n",
    "import numpy as np\n",
    "import matplotlib.pyplot as plt\n",
    "from sklearn.metrics import r2_score"
   ]
  },
  {
   "cell_type": "code",
   "execution_count": null,
   "metadata": {},
   "outputs": [],
   "source": [
    "np.random.seed(2)\n",
    "x = np.random.normal(3, 1, 100)\n",
    "y = np.random.normal(150, 40, 100) / x\n"
   ]
  },
  {
   "cell_type": "code",
   "execution_count": null,
   "metadata": {},
   "outputs": [],
   "source": [
    "train_x = x[20:]  # Partitioning the data into training and test\n",
    "train_y = y[20:]\n",
    "\n",
    "test_x = x[:20]\n",
    "test_y = y[:20]\n",
    "\n"
   ]
  },
  {
   "cell_type": "markdown",
   "metadata": {},
   "source": [
    "# under fititng "
   ]
  },
  {
   "cell_type": "code",
   "execution_count": null,
   "metadata": {},
   "outputs": [],
   "source": [
    "mymodel = np.poly1d(np.polyfit(train_x, train_y, 1)) # change the value k to 1,2,3,... and explore underfitting, overfitting, observe the r2 value, also called R 2 value.\n",
    "myline=np.linspace(0,6,100)\n",
    "plt.scatter(train_x, train_y, color='green')\n",
    "plt.scatter(test_x, test_y,color = 'red')\n",
    "plt.plot(myline, mymodel(myline))\n",
    "plt.show()\n"
   ]
  },
  {
   "cell_type": "markdown",
   "metadata": {},
   "source": [
    "# Over fitting"
   ]
  },
  {
   "cell_type": "code",
   "execution_count": null,
   "metadata": {},
   "outputs": [],
   "source": [
    "mymodel = np.poly1d(np.polyfit(train_x, train_y, 9)) # change the value k to 1,2,3,... and explore underfitting, overfitting, observe the r2 value, also called R 2 value.\n",
    "myline=np.linspace(0,6,100)\n",
    "plt.scatter(train_x, train_y, color='green')\n",
    "plt.scatter(test_x, test_y,color = 'red')\n",
    "plt.plot(myline, mymodel(myline))\n",
    "plt.show()\n"
   ]
  },
  {
   "cell_type": "code",
   "execution_count": null,
   "metadata": {},
   "outputs": [],
   "source": []
  }
 ],
 "metadata": {
  "colab": {
   "name": "backpropagation.ipynb",
   "provenance": []
  },
  "kernelspec": {
   "display_name": "deeplearning",
   "language": "python",
   "name": "deeplearning"
  },
  "language_info": {
   "codemirror_mode": {
    "name": "ipython",
    "version": 3
   },
   "file_extension": ".py",
   "mimetype": "text/x-python",
   "name": "python",
   "nbconvert_exporter": "python",
   "pygments_lexer": "ipython3",
   "version": "3.8.5"
  }
 },
 "nbformat": 4,
 "nbformat_minor": 1
}
